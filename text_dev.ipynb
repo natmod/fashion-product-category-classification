{
 "cells": [
  {
   "cell_type": "code",
   "execution_count": 1,
   "source": [
    "from nltk.tokenize import word_tokenize\n",
    "from data_utils import get_json\n",
    "from infer_utils import predict_text_label\n",
    "from infer_utils import tokenize, keyword_count_predict, LABELS"
   ],
   "outputs": [],
   "metadata": {}
  },
  {
   "cell_type": "code",
   "execution_count": 2,
   "source": [
    "data = get_json()"
   ],
   "outputs": [],
   "metadata": {}
  },
  {
   "cell_type": "code",
   "execution_count": 12,
   "source": [
    "for item in data[900:]:\n",
    "    text = item['description']\n",
    "    pred_label = predict_text_label(text)\n",
    "    if pred_label:\n",
    "        print('text: ', text)\n",
    "        print('label: ', pred_label)"
   ],
   "outputs": [
    {
     "output_type": "stream",
     "name": "stdout",
     "text": [
      "text:  \n",
      "<p>This worn in sweatpant is the perfected version of a vintage gym pant. Its drawstring waistband and elastic cuffs make for a relaxed look.</p>\n",
      "<p><em>100% Cotton</em></p>\n",
      "<p><em>Model is 5'8\" wearing size 1</em></p>\n",
      "<p><em>Size 1 - Inseam 24 1/2\" Rise 10 5/8\" Leg Opening 5 3/8\"</em></p>\n",
      "<p><em>Machine Wash Cold Tumble Dry Low</em></p>\n",
      "<p>Made in the U.S.A.</p>\n",
      "label:  PANT\n",
      "text:  100% Leather, Rounded toe, Decorative seams, Rubber sole, 1cm heel\n",
      "label:  SHOE\n",
      "text:  \n",
      "<p>Architecture for the body, sculpted to curve the way you do. Streamlined, minimalist sheath dress cut from bonded neoprene fabric. Square neckline frames the face to dramatic effect. Hidden zipper down the center back for easy on and easy off.</p>\n",
      "\n",
      "<p>Style Number: P19720BN</p>\n",
      "<span style=\"text-decoration: underline;\"><b>Size &amp; Fit </b></span> \n",
      "<span>Model's Height: 5'9\"</span>\n",
      "<p><span>Model is wearing size 2</span></p>\n",
      "<span style=\"text-decoration: underline;\"><b>Composition &amp; Care </b></span> \n",
      "<span>Composition: 72% Polyamide 28% Elastane</span>\n",
      "<span>Washing Instructions: Dry Clean Only</span>\n",
      "label:  DRESS\n",
      "text:  Upper: patent leather Ankle strap Leather sole with non-slip injected rubber insert and metal lettering logo 65mm heel\n",
      "label:  SHOE\n",
      "text:  Upper: brushed calf leather, pointy toe Tonal lettering logo Leather sole 1.5 cm ABS heel\n",
      "label:  SHOE\n",
      "text:  The Bailey 44 Santorini Skirt<span> is a full length fitted maxi skirt. Features a ruching design, tie dye print and front slit in our signature stretch jersey fabric.</span>\n",
      "label:  SKIRT\n",
      "text:  Saffiano leather and metal Gold-finish hook and split ring\n",
      "label:  JEWELRY\n",
      "text:  Upper: satin \"Thunder\" design heel Colored leather sole with metal lettering logo 105 mm heel\n",
      "label:  SHOE\n",
      "text:  \n",
      "<p>The Jig Dress. has a voluminous body and sleeves and looks great paired with chunky sandals or boots. Wear with abandon.</p>\n",
      "<p><em>100% Cotton</em></p>\n",
      "<p><em>Model is 5'8\" wearing size 1</em></p>\n",
      "<p><em>Size 1 - Length 50 1/8\" Sleeve Length 7 7/8\"</em></p>\n",
      "<p><em>Machine Wash Cold Tumble Dry Low</em></p>\n",
      "<p>Import</p>\n",
      "label:  DRESS\n",
      "text:  Carnation print Three-quarter sleeves with buttons Scoop neckline on front, bateau neckline on back Small pocket on the front with logo label and triangle logo Gathered skirt Front button closure Side zipper with hook 100% cotton\n",
      "label:  SKIRT\n",
      "text:  Upper: suede Strap Crystal embellishment 85 mm heel\n",
      "label:  SHOE\n",
      "text:  \n",
      "\n",
      "<p>Our Boom pant is the perfect way to add flare to your holiday season. Featuring an invisible back zip closure, and waist seam detailing for a fresh classic look. Pairs perfect with our public top or your favorite tee.</p>\n",
      "label:  PANT\n"
     ]
    }
   ],
   "metadata": {}
  },
  {
   "cell_type": "code",
   "execution_count": 11,
   "source": [
    "text = \"\"\"\n",
    "<p class=\"p1\" style=\"text-align: center;\"><span>Finely ribbed knit polo shirt. Center front button placket with four buttons. Length falls at hip.</span></p>\n",
    "\n",
    "\n",
    "<style type=\"text/css\"><!--\n",
    "td {border: 1px solid #ccc;}br {mso-data-placement:same-cell;}\n",
    "--></style><style type=\"text/css\"><!--\n",
    "td {border: 1px solid #ccc;}br {mso-data-placement:same-cell;}\n",
    "--></style>\n",
    "<h3 style=\"text-align: center;\">11CY8017</h3>\n",
    "<span>[tab]Details+Fit[/tab] </span> \n",
    "<p>We recommend taking your regular size.</p>\n",
    "<p>Model is 5'11 wearing a size S.</p>\n",
    "<h3>92% Rayon, 8% Elite</h3>\n",
    "show more (open the raw output data in a text editor) ...\n",
    "\n",
    "<p><em>Model is 5'8\" wearing size 1</em></p>\n",
    "<p><em>Size 1 - Length 43 3/4\" Sleeve Length 4\"</em></p>\n",
    "<p><em>Machine Wash Cold Tumble Dry Low</em></p>\n",
    "<p>Made in the U.S.A.</p>\n",
    "\"\"\"\n",
    "\n",
    "tokens = tokenize(text)\n",
    "x = keyword_count_predict(tokens)\n",
    "print(LABELS[x.argmax()])\n",
    "print(x)\n",
    "print(predict_text_label(text))"
   ],
   "outputs": [
    {
     "output_type": "stream",
     "name": "stdout",
     "text": [
      "TOPS\n",
      "[1. 0. 0. 0. 0. 0. 0. 0. 0. 0. 0. 0.]\n",
      "TOPS\n"
     ]
    }
   ],
   "metadata": {}
  },
  {
   "cell_type": "code",
   "execution_count": 6,
   "source": [
    "numer, denom = 0, 0\n",
    "for item in data:\n",
    "    text = item['description']\n",
    "    pred_label = predict_text_label(text)\n",
    "    if pred_label:\n",
    "        numer += 1\n",
    "    denom += 1\n",
    "coverage = numer / (denom * 1.0)\n",
    "print(coverage)"
   ],
   "outputs": [
    {
     "output_type": "stream",
     "name": "stdout",
     "text": [
      "0.145\n"
     ]
    }
   ],
   "metadata": {}
  },
  {
   "cell_type": "code",
   "execution_count": 3,
   "source": [
    "from infer_utils import predict_image_label"
   ],
   "outputs": [],
   "metadata": {}
  },
  {
   "cell_type": "code",
   "execution_count": 6,
   "source": [
    "for item in data[:6]:\n",
    "    image_url = item['image_url']\n",
    "    label = predict_image_label(image_url)\n",
    "    print(image_url)\n",
    "    print(label)\n",
    "    # text = item['description']\n",
    "    # pred_label = predict_text_label(text)\n",
    "    # if pred_label:\n",
    "    #     print('text: ', text)\n",
    "    #     print('label: ', pred_label)"
   ],
   "outputs": [
    {
     "output_type": "stream",
     "name": "stdout",
     "text": [
      "https://cdn.theyes.com/images/full/5a05c6a7540efe90c8c789f19d333f8d9a5095d7.jpg\n",
      "DRESS\n",
      "https://cdn.theyes.com/images/full/1299011804454204c05297bddde6c88b20363e78.jpg\n",
      "PANT\n",
      "https://cdn.theyes.com/images/full/fc9107bdf4b975e23d7bb0206e5d1db60bc1a7a8.jpg\n",
      "DRESS\n",
      "https://cdn.theyes.com/images/full/a442495e66a1cdcfc27981726aa2653100bf5d93.jpg\n",
      "SHOE\n",
      "https://cdn.theyes.com/images/full/51bf13ea84fc683276d4292f60cd5cf1d0ab1f3b.jpg\n",
      "DRESS\n",
      "https://cdn.theyes.com/images/full/186ce9a5f0e56dc265823890b154a44f0bbb30d1.jpg\n",
      "SHOE\n"
     ]
    }
   ],
   "metadata": {}
  },
  {
   "cell_type": "code",
   "execution_count": 4,
   "source": [
    "image_url = \"https://cdn.theyes.com/images/full/ee380de1d2fa558bf7d0d493b0dd844b27ae74a5.jpg\"\n",
    "label = predict_image_label(image_url)\n",
    "print(image_url)\n",
    "print(label)"
   ],
   "outputs": [
    {
     "output_type": "stream",
     "name": "stdout",
     "text": [
      "https://cdn.theyes.com/images/full/ee380de1d2fa558bf7d0d493b0dd844b27ae74a5.jpg\n",
      "OUTERWEAR\n"
     ]
    }
   ],
   "metadata": {}
  },
  {
   "cell_type": "code",
   "execution_count": null,
   "source": [],
   "outputs": [],
   "metadata": {}
  }
 ],
 "metadata": {
  "orig_nbformat": 4,
  "language_info": {
   "name": "python",
   "version": "3.6.13",
   "mimetype": "text/x-python",
   "codemirror_mode": {
    "name": "ipython",
    "version": 3
   },
   "pygments_lexer": "ipython3",
   "nbconvert_exporter": "python",
   "file_extension": ".py"
  },
  "kernelspec": {
   "name": "python3",
   "display_name": "Python 3.6.13 64-bit ('fashion': conda)"
  },
  "interpreter": {
   "hash": "9a62e7518f58fd16d04b1e539286029d06e7cdc63a324cde31bfbaf626cd47dc"
  }
 },
 "nbformat": 4,
 "nbformat_minor": 2
}